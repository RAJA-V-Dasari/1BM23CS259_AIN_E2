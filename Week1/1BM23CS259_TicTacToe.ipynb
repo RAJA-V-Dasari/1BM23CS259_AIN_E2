{
 "cells": [
  {
   "cell_type": "code",
   "execution_count": 57,
   "id": "71927044-86b1-4aac-a31a-97f7c4283ac1",
   "metadata": {},
   "outputs": [
    {
     "name": "stdout",
     "output_type": "stream",
     "text": [
      " | | \n",
      "-+-+-\n",
      " | | \n",
      "-+-+-\n",
      " | | \n",
      "\n",
      "X| | \n",
      "-+-+-\n",
      " | | \n",
      "-+-+-\n",
      " | | \n",
      "\n"
     ]
    },
    {
     "name": "stdin",
     "output_type": "stream",
     "text": [
      "Enter position for O (1-9):  2\n"
     ]
    },
    {
     "name": "stdout",
     "output_type": "stream",
     "text": [
      "X|O| \n",
      "-+-+-\n",
      " | | \n",
      "-+-+-\n",
      " | | \n",
      "\n",
      "X|O| \n",
      "-+-+-\n",
      "X| | \n",
      "-+-+-\n",
      " | | \n",
      "\n"
     ]
    },
    {
     "name": "stdin",
     "output_type": "stream",
     "text": [
      "Enter position for O (1-9):  6\n"
     ]
    },
    {
     "name": "stdout",
     "output_type": "stream",
     "text": [
      "X|O| \n",
      "-+-+-\n",
      "X| |O\n",
      "-+-+-\n",
      " | | \n",
      "\n",
      "X|O| \n",
      "-+-+-\n",
      "X|X|O\n",
      "-+-+-\n",
      " | | \n",
      "\n"
     ]
    },
    {
     "name": "stdin",
     "output_type": "stream",
     "text": [
      "Enter position for O (1-9):  7\n"
     ]
    },
    {
     "name": "stdout",
     "output_type": "stream",
     "text": [
      "X|O| \n",
      "-+-+-\n",
      "X|X|O\n",
      "-+-+-\n",
      "O| | \n",
      "\n",
      "X|O| \n",
      "-+-+-\n",
      "X|X|O\n",
      "-+-+-\n",
      "O| |X\n",
      "\n",
      "Bot wins!\n"
     ]
    }
   ],
   "source": [
    "board = {i: ' ' for i in range(1, 10)}\n",
    "\n",
    "winning_combinations = [\n",
    "    (1, 2, 3), (4, 5, 6), (7, 8, 9),  \n",
    "    (1, 4, 7), (2, 5, 8), (3, 6, 9),  \n",
    "    (1, 5, 9), (3, 5, 7)              \n",
    "]\n",
    "\n",
    "def printBoard(board):\n",
    "    print(f\"{board[1]}|{board[2]}|{board[3]}\")\n",
    "    print(\"-+-+-\")\n",
    "    print(f\"{board[4]}|{board[5]}|{board[6]}\")\n",
    "    print(\"-+-+-\")\n",
    "    print(f\"{board[7]}|{board[8]}|{board[9]}\\n\")\n",
    "\n",
    "def spaceFree(pos):\n",
    "    return board[pos] == ' '\n",
    "\n",
    "def checkWin(player):\n",
    "    for combo in winning_combinations:\n",
    "        if all(board[pos] == player for pos in combo):\n",
    "            return True\n",
    "    return False\n",
    "\n",
    "def checkDraw():\n",
    "    return all(spaceFree(pos) == False for pos in board)\n",
    "\n",
    "def insertLetter(letter, position):\n",
    "    if spaceFree(position):\n",
    "        board[position] = letter\n",
    "        printBoard(board)\n",
    "        return True\n",
    "    else:\n",
    "        print(\"Position taken, please pick a different position.\")\n",
    "        return False\n",
    "\n",
    "player = 'O'\n",
    "bot = 'X'\n",
    "\n",
    "def playerMove():\n",
    "    while True:\n",
    "        try:\n",
    "            position = int(input('Enter position for O (1-9): '))\n",
    "            if position not in board:\n",
    "                print(\"Invalid position. Choose 1-9.\")\n",
    "                continue\n",
    "            if insertLetter(player, position):\n",
    "                break\n",
    "        except ValueError:\n",
    "            print(\"Please enter a valid number.\")\n",
    "\n",
    "def compMove():\n",
    "    bestScore = -float('inf')\n",
    "    bestMove = None\n",
    "\n",
    "    for key in board:\n",
    "        if board[key] == ' ':\n",
    "            board[key] = bot\n",
    "            score = minimax(False)\n",
    "            board[key] = ' '\n",
    "            if score > bestScore:\n",
    "                bestScore = score\n",
    "                bestMove = key\n",
    "\n",
    "    insertLetter(bot, bestMove)\n",
    "\n",
    "def minimax(isMaximizing):\n",
    "    if checkWin(bot):\n",
    "        return 1\n",
    "    elif checkWin(player):\n",
    "        return -1\n",
    "    elif checkDraw():\n",
    "        return 0\n",
    "\n",
    "    if isMaximizing:\n",
    "        bestScore = -float('inf')\n",
    "        for key in board:\n",
    "            if board[key] == ' ':\n",
    "                board[key] = bot\n",
    "                score = minimax(False)\n",
    "                board[key] = ' '\n",
    "                bestScore = max(score, bestScore)\n",
    "        return bestScore\n",
    "    else:\n",
    "        bestScore = float('inf')\n",
    "        for key in board:\n",
    "            if board[key] == ' ':\n",
    "                board[key] = player\n",
    "                score = minimax(True)\n",
    "                board[key] = ' '\n",
    "                bestScore = min(score, bestScore)\n",
    "        return bestScore\n",
    "\n",
    "def game():\n",
    "    printBoard(board)\n",
    "    while True:\n",
    "        compMove()\n",
    "        if checkWin(bot):\n",
    "            print(\"Bot wins!\")\n",
    "            break\n",
    "        if checkDraw():\n",
    "            print(\"Draw!\")\n",
    "            break\n",
    "        playerMove()\n",
    "        if checkWin(player):\n",
    "            print(\"You win!\")\n",
    "            break\n",
    "        if checkDraw():\n",
    "            print(\"Draw!\")\n",
    "            break\n",
    "\n",
    "game()\n"
   ]
  },
  {
   "cell_type": "code",
   "execution_count": null,
   "id": "3dfa1ada-5197-45c6-bfd7-e8eeaa2857e2",
   "metadata": {},
   "outputs": [],
   "source": []
  }
 ],
 "metadata": {
  "kernelspec": {
   "display_name": "Python 3 (ipykernel)",
   "language": "python",
   "name": "python3"
  },
  "language_info": {
   "codemirror_mode": {
    "name": "ipython",
    "version": 3
   },
   "file_extension": ".py",
   "mimetype": "text/x-python",
   "name": "python",
   "nbconvert_exporter": "python",
   "pygments_lexer": "ipython3",
   "version": "3.12.7"
  }
 },
 "nbformat": 4,
 "nbformat_minor": 5
}
