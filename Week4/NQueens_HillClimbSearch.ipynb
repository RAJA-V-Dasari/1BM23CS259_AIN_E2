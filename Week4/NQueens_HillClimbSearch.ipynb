{
  "nbformat": 4,
  "nbformat_minor": 0,
  "metadata": {
    "colab": {
      "provenance": []
    },
    "kernelspec": {
      "name": "python3",
      "display_name": "Python 3"
    },
    "language_info": {
      "name": "python"
    }
  },
  "cells": [
    {
      "cell_type": "code",
      "execution_count": 7,
      "metadata": {
        "colab": {
          "base_uri": "https://localhost:8080/"
        },
        "id": "HU1TTRIryX3i",
        "outputId": "3043b5e0-1077-41cd-ebf7-0405229d0fad"
      },
      "outputs": [
        {
          "output_type": "stream",
          "name": "stdout",
          "text": [
            "Global optimum found!\n",
            "Solution: [2, 0, 3, 1]\n",
            "Number of attacks: 0\n",
            "Total iterations: 13\n",
            "States visited: 3\n",
            "Full path and costs:\n",
            "[1, 0, 2, 3] -> Attacks: 2\n",
            "[3, 0, 2, 1] -> Attacks: 1\n",
            "[2, 0, 3, 1] -> Attacks: 0\n"
          ]
        }
      ],
      "source": [
        "import random\n",
        "\n",
        "def calculate_attacks(board):\n",
        "    attacks = 0\n",
        "    n = len(board)\n",
        "    for i in range(n):\n",
        "        for j in range(i + 1, n):\n",
        "            if board[i] == board[j] or abs(board[i] - board[j]) == abs(i - j):\n",
        "                attacks += 1\n",
        "    return attacks\n",
        "\n",
        "def generate_neighbor_swap(board):\n",
        "    n = len(board)\n",
        "    neighbor = board.copy()\n",
        "    col1, col2 = random.sample(range(n), 2)\n",
        "    neighbor[col1], neighbor[col2] = neighbor[col2], neighbor[col1]\n",
        "    return neighbor\n",
        "\n",
        "def hill_climbing(n, max_iter=1000):\n",
        "    board = [i for i in range(n)]\n",
        "    random.shuffle(board)\n",
        "    attacks = calculate_attacks(board)\n",
        "    path = [board.copy()]\n",
        "    costs = [attacks]  # Track cost for each step\n",
        "    iterations = 0\n",
        "\n",
        "    while attacks > 0 and iterations < max_iter:\n",
        "        iterations += 1\n",
        "        neighbor = generate_neighbor_swap(board)\n",
        "        neighbor_attacks = calculate_attacks(neighbor)\n",
        "\n",
        "        if neighbor_attacks < attacks:\n",
        "            board = neighbor\n",
        "            attacks = neighbor_attacks\n",
        "            path.append(board.copy())\n",
        "            costs.append(attacks)\n",
        "\n",
        "    return board, attacks, iterations, path, costs\n",
        "\n",
        "def main():\n",
        "    n = 4\n",
        "    total_iterations = 0\n",
        "    full_path = []\n",
        "    full_costs = []\n",
        "\n",
        "    while True:\n",
        "        solution, attacks, iterations, path, costs = hill_climbing(n)\n",
        "        total_iterations += iterations\n",
        "        full_path.extend(path)\n",
        "        full_costs.extend(costs)\n",
        "\n",
        "        if attacks == 0:\n",
        "            print(\"Global optimum found!\")\n",
        "            break\n",
        "        else:\n",
        "            print(f\"No solution found in {iterations} iterations, restarting...\")\n",
        "\n",
        "    print(f\"Solution: {solution}\")\n",
        "    print(f\"Number of attacks: {attacks}\")\n",
        "    print(f\"Total iterations: {total_iterations}\")\n",
        "    print(f\"States visited: {len(full_path)}\")\n",
        "    print(\"Full path and costs:\")\n",
        "    for state, cost in zip(full_path, full_costs):\n",
        "        print(f\"{state} -> Attacks: {cost}\")\n",
        "\n",
        "if __name__ == \"__main__\":\n",
        "    main()\n"
      ]
    }
  ]
}